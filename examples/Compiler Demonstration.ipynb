{
 "cells": [
  {
   "cell_type": "markdown",
   "metadata": {},
   "source": [
    "# 1) Imports"
   ]
  },
  {
   "cell_type": "code",
   "execution_count": 1,
   "metadata": {
    "scrolled": false
   },
   "outputs": [],
   "source": [
    "import sys\n",
    "sys.path.insert(1, '/mnt/c/Users/conno/Documents/GitHub/MISTIQS/src')\n",
    "\n",
    "from Heisenberg import Heisenberg\n",
    "from ds_compiler import ds_compile\n"
   ]
  },
  {
   "cell_type": "markdown",
   "metadata": {},
   "source": [
    "# 2) Create Heisenberg object\n",
    "This object solely takes in your input file, so it contains the information about the system you are simulating and your preferences including backend choice, compilation method, and others."
   ]
  },
  {
   "cell_type": "code",
   "execution_count": 2,
   "metadata": {
    "scrolled": true
   },
   "outputs": [
    {
     "name": "stderr",
     "output_type": "stream",
     "text": [
      "/home/cpowers/miniconda3/envs/py38/lib/python3.8/site-packages/qiskit/providers/ibmq/ibmqfactory.py:192: UserWarning: Timestamps in IBMQ backend properties, jobs, and job results are all now in local time instead of UTC.\n",
      "  warnings.warn('Timestamps in IBMQ backend properties, jobs, and job results '\n"
     ]
    }
   ],
   "source": [
    "\n",
    "#First, create the Heisenberg object using the parameters specified in the input file. This defines the system to simulate\n",
    "#and allows for the generation of circuits to simulate the time evolution of this system.\n",
    "test_object=Heisenberg(\"TFIM_input_file.txt\")\n",
    "test_object.compile=\"n\" #return uncompiled circuits for now\n",
    "\n",
    "\n",
    "\n",
    "#Because we are working in the IBM backend in this example, run the connect_IBM() method of the object to connect to IBM's\n",
    "#backend. This is required for both compilation and circuit execution, if desired.\n",
    "\n",
    "#First time user of IBM's Quantum Experience API? Run the line below\n",
    "# test_object.connect_IBM(api_key=\"insert your IBM Quantum Experience API key here\")\n",
    "\n",
    "#If you already run IBM Quantum Experience API jobs, run the following instead:\n",
    "test_object.connect_IBM()\n",
    "\n",
    "\n",
    "    \n"
   ]
  },
  {
   "cell_type": "markdown",
   "metadata": {},
   "source": [
    "# 3) Generate Quantum Circuits for Quantum Simulation of Your Physical System\n",
    "\n",
    "Note: any warning messages about gate error values are due to qiskit's noise model building, not MISTIQS"
   ]
  },
  {
   "cell_type": "code",
   "execution_count": 3,
   "metadata": {
    "scrolled": true
   },
   "outputs": [
    {
     "name": "stdout",
     "output_type": "stream",
     "text": [
      "Generating timestep 0 circuit\n",
      "Generating timestep 1 circuit\n",
      "Generating timestep 2 circuit\n",
      "Generating timestep 3 circuit\n",
      "Generating timestep 4 circuit\n",
      "Generating timestep 5 circuit\n",
      "Generating timestep 6 circuit\n",
      "Generating timestep 7 circuit\n",
      "Generating timestep 8 circuit\n",
      "Generating timestep 9 circuit\n",
      "Generating timestep 10 circuit\n",
      "Generating timestep 11 circuit\n",
      "Generating timestep 12 circuit\n",
      "Generating timestep 13 circuit\n",
      "Generating timestep 14 circuit\n",
      "Generating timestep 15 circuit\n",
      "Generating timestep 16 circuit\n",
      "Generating timestep 17 circuit\n",
      "Generating timestep 18 circuit\n",
      "Generating timestep 19 circuit\n",
      "Generating timestep 20 circuit\n",
      "Generating timestep 21 circuit\n",
      "Generating timestep 22 circuit\n",
      "Generating timestep 23 circuit\n",
      "Generating timestep 24 circuit\n",
      "Generating timestep 25 circuit\n",
      "Generating timestep 26 circuit\n",
      "Generating timestep 27 circuit\n",
      "Generating timestep 28 circuit\n",
      "Generating timestep 29 circuit\n",
      "Generating timestep 30 circuit\n",
      "Creating IBM quantum circuit objects...\n",
      "IBM quantum circuit objects created\n"
     ]
    }
   ],
   "source": [
    "test_object.generate_circuits()\n",
    "uncompiled_circuits=test_object.return_circuits()"
   ]
  },
  {
   "cell_type": "markdown",
   "metadata": {},
   "source": [
    "# 4) Run the circuits through the domain-specific quantum compiler"
   ]
  },
  {
   "cell_type": "code",
   "execution_count": 4,
   "metadata": {
    "scrolled": true
   },
   "outputs": [],
   "source": [
    "compiled_circuits=[]\n",
    "for circuit in uncompiled_circuits:\n",
    "    compiled_circuits.append(ds_compile(circuit,'ibm'))\n",
    "\n"
   ]
  },
  {
   "cell_type": "markdown",
   "metadata": {},
   "source": [
    "Now, let's compare this to the same circuits run through IBM's compiler"
   ]
  },
  {
   "cell_type": "code",
   "execution_count": 5,
   "metadata": {},
   "outputs": [],
   "source": [
    "test_object.compile=\"y\" #allow IBM compiler to transpile circuits\n",
    "test_object.auto_ds_compile=\"n\""
   ]
  },
  {
   "cell_type": "code",
   "execution_count": 6,
   "metadata": {},
   "outputs": [
    {
     "name": "stdout",
     "output_type": "stream",
     "text": [
      "Generating timestep 0 circuit\n",
      "Generating timestep 1 circuit\n",
      "Generating timestep 2 circuit\n",
      "Generating timestep 3 circuit\n",
      "Generating timestep 4 circuit\n",
      "Generating timestep 5 circuit\n",
      "Generating timestep 6 circuit\n",
      "Generating timestep 7 circuit\n",
      "Generating timestep 8 circuit\n",
      "Generating timestep 9 circuit\n",
      "Generating timestep 10 circuit\n",
      "Generating timestep 11 circuit\n",
      "Generating timestep 12 circuit\n",
      "Generating timestep 13 circuit\n",
      "Generating timestep 14 circuit\n",
      "Generating timestep 15 circuit\n",
      "Generating timestep 16 circuit\n",
      "Generating timestep 17 circuit\n",
      "Generating timestep 18 circuit\n",
      "Generating timestep 19 circuit\n",
      "Generating timestep 20 circuit\n",
      "Generating timestep 21 circuit\n",
      "Generating timestep 22 circuit\n",
      "Generating timestep 23 circuit\n",
      "Generating timestep 24 circuit\n",
      "Generating timestep 25 circuit\n",
      "Generating timestep 26 circuit\n",
      "Generating timestep 27 circuit\n",
      "Generating timestep 28 circuit\n",
      "Generating timestep 29 circuit\n",
      "Generating timestep 30 circuit\n",
      "Creating IBM quantum circuit objects...\n",
      "IBM quantum circuit objects created\n",
      "Transpiling circuits...\n",
      "Circuits transpiled successfully\n"
     ]
    }
   ],
   "source": [
    "test_object.generate_circuits()"
   ]
  },
  {
   "cell_type": "code",
   "execution_count": 7,
   "metadata": {},
   "outputs": [],
   "source": [
    "ibm_circuits=test_object.return_circuits()"
   ]
  },
  {
   "cell_type": "code",
   "execution_count": 8,
   "metadata": {},
   "outputs": [],
   "source": [
    "import numpy as np"
   ]
  },
  {
   "cell_type": "code",
   "execution_count": 24,
   "metadata": {},
   "outputs": [],
   "source": [
    "rxcount=0\n",
    "rzcount=0\n",
    "cxcount=0\n",
    "rxplot=np.zeros(test_object.steps+1)\n",
    "rzplot=rxplot\n",
    "cxplot=rxplot\n",
    "totalplot=rxplot\n",
    "i=0\n",
    "for circuit in ibm_circuits:\n",
    "    rxtemp=0\n",
    "    rztemp=0\n",
    "    cxtemp=0\n",
    "    total_gates=0\n",
    "    data=circuit.qasm().split(\";\")\n",
    "    for line in data:\n",
    "        if \"u3\" in line:\n",
    "            rxcount+=2\n",
    "            rxtemp+=2\n",
    "            rzcount+=3\n",
    "            rztemp+=3\n",
    "            total_gates+=5\n",
    "        elif \"u2\" in line:\n",
    "            rxcount+=1\n",
    "            rxtemp+=1\n",
    "            rzcount+=3\n",
    "            rztemp+=3\n",
    "            total_gates+=4\n",
    "        elif \"u1\" in line:\n",
    "            rzcount+=1\n",
    "            rztemp+=1\n",
    "            total_gates+=1\n",
    "        elif \"cx\" in line:\n",
    "            cxcount+=1\n",
    "            cxtemp+=1\n",
    "            total_gates+=1\n",
    "    rxplot[i]=rxtemp\n",
    "    rzplot[i]=rztemp\n",
    "    cxplot[i]=cxtemp\n",
    "    totalplot[i]=total_gates\n",
    "    i+=1"
   ]
  },
  {
   "cell_type": "code",
   "execution_count": 25,
   "metadata": {},
   "outputs": [],
   "source": [
    "rxcount_ds=0\n",
    "rzcount_ds=0\n",
    "cxcount_ds=0\n",
    "rxplot_ds=np.zeros(test_object.steps+1)\n",
    "rzplot_ds=rxplot_ds\n",
    "cxplot_ds=rxplot_ds\n",
    "totalplot_ds=rxplot_ds\n",
    "i=0\n",
    "for circuit in compiled_circuits:\n",
    "    rxtemp_ds=0\n",
    "    rztemp_ds=0\n",
    "    cxtemp_ds=0\n",
    "    totalgates=0\n",
    "    data=circuit.qasm().split(\";\")\n",
    "    for line in data:\n",
    "        if \"rx\" in line:\n",
    "            rxcount_ds+=1\n",
    "            rxtemp_ds+=1\n",
    "            totalgates+=1\n",
    "        elif \"rz\" in line:\n",
    "            rzcount_ds+=1\n",
    "            rztemp_ds+=1\n",
    "            totalgates+=1\n",
    "        elif \"cx\" in line:\n",
    "            cxcount_ds+=1\n",
    "            cxtemp_ds+=1\n",
    "            totalgates+=1\n",
    "    rxplot_ds[i]=rxtemp_ds\n",
    "    rzplot_ds[i]=rztemp_ds\n",
    "    cxplot_ds[i]=cxtemp_ds\n",
    "    totalplot[i]=totalgates\n",
    "    i+=1"
   ]
  },
  {
   "cell_type": "code",
   "execution_count": 26,
   "metadata": {},
   "outputs": [
    {
     "name": "stdout",
     "output_type": "stream",
     "text": [
      "The IBM-compiled circuits contain 3720 RX gates, 6975 RZ gates, and 2790 CX gates\n",
      "\n",
      "The DS-compiled circuits contain 2850 RX gates, 4035 RZ gates, and 2610 CX gates,\n",
      "for a reduction by 23.4%, 42.2%, and 6.5%, respectively.\n"
     ]
    }
   ],
   "source": [
    "print(\"The IBM-compiled circuits contain {} RX gates, {} RZ gates, and {} CX gates\\n\".format(rxcount,rzcount,cxcount))\n",
    "print(\"The DS-compiled circuits contain {} RX gates, {} RZ gates, and {} CX gates,\\nfor a reduction by {}%, {}%, and {}%, respectively.\".format(rxcount_ds,rzcount_ds,cxcount_ds, round(100*((rxcount-rxcount_ds)/rxcount),1),round(100*((rzcount-rzcount_ds)/rzcount),1),round(100*((cxcount-cxcount_ds)/cxcount),1)))\n"
   ]
  },
  {
   "cell_type": "code",
   "execution_count": 27,
   "metadata": {},
   "outputs": [],
   "source": [
    "import matplotlib.pyplot as plt"
   ]
  },
  {
   "cell_type": "markdown",
   "metadata": {},
   "source": [
    "totaldiff=100*((rxcount+rzcount+cxcount)-(rxcount_ds+rzcount_ds+cxcount_ds))/(rxcount+rzcount+cxcount)\n",
    "print(totaldiff)"
   ]
  },
  {
   "cell_type": "code",
   "execution_count": 45,
   "metadata": {},
   "outputs": [
    {
     "data": {
      "image/png": "[encoded data removed]",
      "text/plain": [
       "<Figure size 432x288 with 1 Axes>"
      ]
     },
     "metadata": {
      "needs_background": "light"
     },
     "output_type": "display_data"
    }
   ],
   "source": [
    "fig,ax=plt.subplots()\n",
    "plt.plot(totalplot,'k--')\n",
    "plt.plot(totalplot_ds,'b')\n",
    "plt.xlabel(\"Simulation Timestep\",fontsize=14)\n",
    "plt.ylabel(\"Total Gate Count\",fontsize=14)\n",
    "plt.legend([\"IBM Native Compiler\",\"DS Compiler\"])\n",
    "plt.tight_layout()\n",
    "every_nth = 2\n",
    "for n, label in enumerate(ax.xaxis.get_ticklabels()):\n",
    "    if (n+1) % every_nth != 0:\n",
    "        label.set_visible(False)\n",
    "every_nth = 2\n",
    "for n, label in enumerate(ax.yaxis.get_ticklabels()):\n",
    "    if (n+1) % every_nth != 0:\n",
    "        label.set_visible(False)"
   ]
  }
 ],
 "metadata": {
  "kernelspec": {
   "display_name": "Python 3.8",
   "language": "python",
   "name": "py38"
  },
  "language_info": {
   "codemirror_mode": {
    "name": "ipython",
    "version": 3
   },
   "file_extension": ".py",
   "mimetype": "text/x-python",
   "name": "python",
   "nbconvert_exporter": "python",
   "pygments_lexer": "ipython3",
   "version": "3.8.3"
  }
 },
 "nbformat": 4,
 "nbformat_minor": 2
}
