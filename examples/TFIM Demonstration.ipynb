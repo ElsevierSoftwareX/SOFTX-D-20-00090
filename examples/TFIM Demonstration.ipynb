{
 "cells": [
  {
   "cell_type": "markdown",
   "metadata": {},
   "source": [
    "# 1) Imports"
   ]
  },
  {
   "cell_type": "code",
   "execution_count": 1,
   "metadata": {
    "scrolled": false
   },
   "outputs": [
    {
     "ename": "IndentationError",
     "evalue": "expected an indented block (Heisenberg.py, line 456)",
     "output_type": "error",
     "traceback": [
      "Traceback \u001b[0;36m(most recent call last)\u001b[0m:\n",
      "  File \u001b[1;32m\"/home/cpowers/miniconda3/envs/py38/lib/python3.8/site-packages/IPython/core/interactiveshell.py\"\u001b[0m, line \u001b[1;32m3343\u001b[0m, in \u001b[1;35mrun_code\u001b[0m\n    exec(code_obj, self.user_global_ns, self.user_ns)\n",
      "\u001b[0;36m  File \u001b[0;32m\"<ipython-input-1-980884dd1773>\"\u001b[0;36m, line \u001b[0;32m4\u001b[0;36m, in \u001b[0;35m<module>\u001b[0;36m\u001b[0m\n\u001b[0;31m    from Heisenberg import Heisenberg\u001b[0m\n",
      "\u001b[0;36m  File \u001b[0;32m\"/mnt/c/Users/conno/Documents/GitHub/MISTIQS/src/Heisenberg.py\"\u001b[0;36m, line \u001b[0;32m456\u001b[0m\n\u001b[0;31m    \"\"\"\u001b[0m\n\u001b[0m    ^\u001b[0m\n\u001b[0;31mIndentationError\u001b[0m\u001b[0;31m:\u001b[0m expected an indented block\n"
     ]
    }
   ],
   "source": [
    "import sys\n",
    "sys.path.insert(1, '/mnt/c/Users/conno/Documents/GitHub/MISTIQS/src')\n",
    "\n",
    "from Heisenberg import Heisenberg"
   ]
  },
  {
   "cell_type": "markdown",
   "metadata": {},
   "source": [
    "# 2) Create Heisenberg object\n",
    "This object solely takes in your input file, so it contains the information about the system you are simulating and your preferences including backend choice, compilation method, and others."
   ]
  },
  {
   "cell_type": "code",
   "execution_count": null,
   "metadata": {
    "scrolled": true
   },
   "outputs": [],
   "source": [
    "\n",
    "#First, create the Heisenberg object using the parameters specified in the input file. This defines the system to simulate\n",
    "#and allows for the generation of circuits to simulate the time evolution of this system.\n",
    "test_object=Heisenberg(\"TFIM_input_file.txt\")\n",
    "\n",
    "\n",
    "\n",
    "#Because we are working in the IBM backend in this example, run the connect_IBM() method of the object to connect to IBM's\n",
    "#backend. This is required for both compilation and circuit execution, if desired.\n",
    "\n",
    "#First time user of IBM's Quantum Experience API? Run the line below\n",
    "# test_object.connect_IBM(api_key=\"insert your IBM Quantum Experience API key here\")\n",
    "\n",
    "#If you already run IBM Quantum Experience API jobs, run the following instead:\n",
    "test_object.connect_IBM()\n",
    "\n",
    "\n",
    "    \n"
   ]
  },
  {
   "cell_type": "markdown",
   "metadata": {},
   "source": [
    "# 3) Generate Quantum Circuits for Quantum Simulation of Your Physical System\n",
    "\n",
    "Note: any warning messages about gate error values are due to qiskit's noise model building, not MISTIQS"
   ]
  },
  {
   "cell_type": "code",
   "execution_count": null,
   "metadata": {
    "scrolled": true
   },
   "outputs": [],
   "source": [
    "test_object.generate_circuits()"
   ]
  },
  {
   "cell_type": "markdown",
   "metadata": {},
   "source": [
    "# 4) Run the Quantum Circuits on Your Selected Quantum Device and Post-Process the Results"
   ]
  },
  {
   "cell_type": "code",
   "execution_count": null,
   "metadata": {},
   "outputs": [],
   "source": [
    "test_object.run_circuits()"
   ]
  },
  {
   "cell_type": "code",
   "execution_count": null,
   "metadata": {},
   "outputs": [],
   "source": []
  }
 ],
 "metadata": {
  "kernelspec": {
   "display_name": "Python 3.8",
   "language": "python",
   "name": "py38"
  },
  "language_info": {
   "codemirror_mode": {
    "name": "ipython",
    "version": 3
   },
   "file_extension": ".py",
   "mimetype": "text/x-python",
   "name": "python",
   "nbconvert_exporter": "python",
   "pygments_lexer": "ipython3",
   "version": "3.8.3"
  }
 },
 "nbformat": 4,
 "nbformat_minor": 2
}
